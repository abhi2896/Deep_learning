{
  "nbformat": 4,
  "nbformat_minor": 0,
  "metadata": {
    "colab": {
      "name": "FIRST_NN.ipynb",
      "provenance": []
    },
    "kernelspec": {
      "name": "python3",
      "display_name": "Python 3"
    },
    "language_info": {
      "name": "python"
    }
  },
  "cells": [
    {
      "cell_type": "code",
      "source": [
        "import pandas as pd"
      ],
      "metadata": {
        "id": "fszt5ofbZnnw"
      },
      "execution_count": 5,
      "outputs": []
    },
    {
      "cell_type": "code",
      "source": [
        "df = pd.read_csv(\"/content/Churn_Modelling.csv\")"
      ],
      "metadata": {
        "id": "RahHZwy-ZAnT"
      },
      "execution_count": 6,
      "outputs": []
    },
    {
      "cell_type": "code",
      "source": [
        "df.sample()"
      ],
      "metadata": {
        "colab": {
          "base_uri": "https://localhost:8080/",
          "height": 145
        },
        "id": "05u-UpjuZu5e",
        "outputId": "5a3b5893-b494-498c-d376-ea5e65fa4160"
      },
      "execution_count": 7,
      "outputs": [
        {
          "output_type": "execute_result",
          "data": {
            "text/html": [
              "\n",
              "  <div id=\"df-5cb040bf-5996-4b74-ac8b-7e723324e69e\">\n",
              "    <div class=\"colab-df-container\">\n",
              "      <div>\n",
              "<style scoped>\n",
              "    .dataframe tbody tr th:only-of-type {\n",
              "        vertical-align: middle;\n",
              "    }\n",
              "\n",
              "    .dataframe tbody tr th {\n",
              "        vertical-align: top;\n",
              "    }\n",
              "\n",
              "    .dataframe thead th {\n",
              "        text-align: right;\n",
              "    }\n",
              "</style>\n",
              "<table border=\"1\" class=\"dataframe\">\n",
              "  <thead>\n",
              "    <tr style=\"text-align: right;\">\n",
              "      <th></th>\n",
              "      <th>RowNumber</th>\n",
              "      <th>CustomerId</th>\n",
              "      <th>Surname</th>\n",
              "      <th>CreditScore</th>\n",
              "      <th>Geography</th>\n",
              "      <th>Gender</th>\n",
              "      <th>Age</th>\n",
              "      <th>Tenure</th>\n",
              "      <th>Balance</th>\n",
              "      <th>NumOfProducts</th>\n",
              "      <th>HasCrCard</th>\n",
              "      <th>IsActiveMember</th>\n",
              "      <th>EstimatedSalary</th>\n",
              "      <th>Exited</th>\n",
              "    </tr>\n",
              "  </thead>\n",
              "  <tbody>\n",
              "    <tr>\n",
              "      <th>5982</th>\n",
              "      <td>5983</td>\n",
              "      <td>15704378</td>\n",
              "      <td>Calabrese</td>\n",
              "      <td>655</td>\n",
              "      <td>Germany</td>\n",
              "      <td>Male</td>\n",
              "      <td>37</td>\n",
              "      <td>9</td>\n",
              "      <td>121342.24</td>\n",
              "      <td>1</td>\n",
              "      <td>1</td>\n",
              "      <td>1</td>\n",
              "      <td>180241.44</td>\n",
              "      <td>0</td>\n",
              "    </tr>\n",
              "  </tbody>\n",
              "</table>\n",
              "</div>\n",
              "      <button class=\"colab-df-convert\" onclick=\"convertToInteractive('df-5cb040bf-5996-4b74-ac8b-7e723324e69e')\"\n",
              "              title=\"Convert this dataframe to an interactive table.\"\n",
              "              style=\"display:none;\">\n",
              "        \n",
              "  <svg xmlns=\"http://www.w3.org/2000/svg\" height=\"24px\"viewBox=\"0 0 24 24\"\n",
              "       width=\"24px\">\n",
              "    <path d=\"M0 0h24v24H0V0z\" fill=\"none\"/>\n",
              "    <path d=\"M18.56 5.44l.94 2.06.94-2.06 2.06-.94-2.06-.94-.94-2.06-.94 2.06-2.06.94zm-11 1L8.5 8.5l.94-2.06 2.06-.94-2.06-.94L8.5 2.5l-.94 2.06-2.06.94zm10 10l.94 2.06.94-2.06 2.06-.94-2.06-.94-.94-2.06-.94 2.06-2.06.94z\"/><path d=\"M17.41 7.96l-1.37-1.37c-.4-.4-.92-.59-1.43-.59-.52 0-1.04.2-1.43.59L10.3 9.45l-7.72 7.72c-.78.78-.78 2.05 0 2.83L4 21.41c.39.39.9.59 1.41.59.51 0 1.02-.2 1.41-.59l7.78-7.78 2.81-2.81c.8-.78.8-2.07 0-2.86zM5.41 20L4 18.59l7.72-7.72 1.47 1.35L5.41 20z\"/>\n",
              "  </svg>\n",
              "      </button>\n",
              "      \n",
              "  <style>\n",
              "    .colab-df-container {\n",
              "      display:flex;\n",
              "      flex-wrap:wrap;\n",
              "      gap: 12px;\n",
              "    }\n",
              "\n",
              "    .colab-df-convert {\n",
              "      background-color: #E8F0FE;\n",
              "      border: none;\n",
              "      border-radius: 50%;\n",
              "      cursor: pointer;\n",
              "      display: none;\n",
              "      fill: #1967D2;\n",
              "      height: 32px;\n",
              "      padding: 0 0 0 0;\n",
              "      width: 32px;\n",
              "    }\n",
              "\n",
              "    .colab-df-convert:hover {\n",
              "      background-color: #E2EBFA;\n",
              "      box-shadow: 0px 1px 2px rgba(60, 64, 67, 0.3), 0px 1px 3px 1px rgba(60, 64, 67, 0.15);\n",
              "      fill: #174EA6;\n",
              "    }\n",
              "\n",
              "    [theme=dark] .colab-df-convert {\n",
              "      background-color: #3B4455;\n",
              "      fill: #D2E3FC;\n",
              "    }\n",
              "\n",
              "    [theme=dark] .colab-df-convert:hover {\n",
              "      background-color: #434B5C;\n",
              "      box-shadow: 0px 1px 3px 1px rgba(0, 0, 0, 0.15);\n",
              "      filter: drop-shadow(0px 1px 2px rgba(0, 0, 0, 0.3));\n",
              "      fill: #FFFFFF;\n",
              "    }\n",
              "  </style>\n",
              "\n",
              "      <script>\n",
              "        const buttonEl =\n",
              "          document.querySelector('#df-5cb040bf-5996-4b74-ac8b-7e723324e69e button.colab-df-convert');\n",
              "        buttonEl.style.display =\n",
              "          google.colab.kernel.accessAllowed ? 'block' : 'none';\n",
              "\n",
              "        async function convertToInteractive(key) {\n",
              "          const element = document.querySelector('#df-5cb040bf-5996-4b74-ac8b-7e723324e69e');\n",
              "          const dataTable =\n",
              "            await google.colab.kernel.invokeFunction('convertToInteractive',\n",
              "                                                     [key], {});\n",
              "          if (!dataTable) return;\n",
              "\n",
              "          const docLinkHtml = 'Like what you see? Visit the ' +\n",
              "            '<a target=\"_blank\" href=https://colab.research.google.com/notebooks/data_table.ipynb>data table notebook</a>'\n",
              "            + ' to learn more about interactive tables.';\n",
              "          element.innerHTML = '';\n",
              "          dataTable['output_type'] = 'display_data';\n",
              "          await google.colab.output.renderOutput(dataTable, element);\n",
              "          const docLink = document.createElement('div');\n",
              "          docLink.innerHTML = docLinkHtml;\n",
              "          element.appendChild(docLink);\n",
              "        }\n",
              "      </script>\n",
              "    </div>\n",
              "  </div>\n",
              "  "
            ],
            "text/plain": [
              "      RowNumber  CustomerId    Surname  CreditScore Geography Gender  Age  \\\n",
              "5982       5983    15704378  Calabrese          655   Germany   Male   37   \n",
              "\n",
              "      Tenure    Balance  NumOfProducts  HasCrCard  IsActiveMember  \\\n",
              "5982       9  121342.24              1          1               1   \n",
              "\n",
              "      EstimatedSalary  Exited  \n",
              "5982        180241.44       0  "
            ]
          },
          "metadata": {},
          "execution_count": 7
        }
      ]
    },
    {
      "cell_type": "code",
      "source": [
        "df.isnull().sum()"
      ],
      "metadata": {
        "colab": {
          "base_uri": "https://localhost:8080/"
        },
        "id": "1SyyK0BPaRMT",
        "outputId": "20cdb19f-a71f-4aa9-a03b-b4b038ce065d"
      },
      "execution_count": 11,
      "outputs": [
        {
          "output_type": "execute_result",
          "data": {
            "text/plain": [
              "RowNumber          0\n",
              "CustomerId         0\n",
              "Surname            0\n",
              "CreditScore        0\n",
              "Geography          0\n",
              "Gender             0\n",
              "Age                0\n",
              "Tenure             0\n",
              "Balance            0\n",
              "NumOfProducts      0\n",
              "HasCrCard          0\n",
              "IsActiveMember     0\n",
              "EstimatedSalary    0\n",
              "Exited             0\n",
              "dtype: int64"
            ]
          },
          "metadata": {},
          "execution_count": 11
        }
      ]
    },
    {
      "cell_type": "code",
      "source": [
        "df.info()"
      ],
      "metadata": {
        "colab": {
          "base_uri": "https://localhost:8080/"
        },
        "id": "w_q-v5rjaW6b",
        "outputId": "b79fe7ec-cd9d-40bc-d26d-a2807a2137cd"
      },
      "execution_count": 12,
      "outputs": [
        {
          "output_type": "stream",
          "name": "stdout",
          "text": [
            "<class 'pandas.core.frame.DataFrame'>\n",
            "RangeIndex: 10000 entries, 0 to 9999\n",
            "Data columns (total 14 columns):\n",
            " #   Column           Non-Null Count  Dtype  \n",
            "---  ------           --------------  -----  \n",
            " 0   RowNumber        10000 non-null  int64  \n",
            " 1   CustomerId       10000 non-null  int64  \n",
            " 2   Surname          10000 non-null  object \n",
            " 3   CreditScore      10000 non-null  int64  \n",
            " 4   Geography        10000 non-null  object \n",
            " 5   Gender           10000 non-null  object \n",
            " 6   Age              10000 non-null  int64  \n",
            " 7   Tenure           10000 non-null  int64  \n",
            " 8   Balance          10000 non-null  float64\n",
            " 9   NumOfProducts    10000 non-null  int64  \n",
            " 10  HasCrCard        10000 non-null  int64  \n",
            " 11  IsActiveMember   10000 non-null  int64  \n",
            " 12  EstimatedSalary  10000 non-null  float64\n",
            " 13  Exited           10000 non-null  int64  \n",
            "dtypes: float64(2), int64(9), object(3)\n",
            "memory usage: 1.1+ MB\n"
          ]
        }
      ]
    },
    {
      "cell_type": "code",
      "source": [
        "df.duplicated().sum()"
      ],
      "metadata": {
        "colab": {
          "base_uri": "https://localhost:8080/"
        },
        "id": "lsSn4TQXaZY_",
        "outputId": "f631226a-8f07-485c-c52a-294f1c038878"
      },
      "execution_count": 15,
      "outputs": [
        {
          "output_type": "execute_result",
          "data": {
            "text/plain": [
              "0"
            ]
          },
          "metadata": {},
          "execution_count": 15
        }
      ]
    },
    {
      "cell_type": "code",
      "source": [
        "df[\"Exited\"].value_counts()"
      ],
      "metadata": {
        "colab": {
          "base_uri": "https://localhost:8080/"
        },
        "id": "EXRv-lwyamzc",
        "outputId": "bedbaa4f-4086-4fca-e1ba-d191692c8b6b"
      },
      "execution_count": 17,
      "outputs": [
        {
          "output_type": "execute_result",
          "data": {
            "text/plain": [
              "0    7963\n",
              "1    2037\n",
              "Name: Exited, dtype: int64"
            ]
          },
          "metadata": {},
          "execution_count": 17
        }
      ]
    },
    {
      "cell_type": "code",
      "source": [
        "df = df.drop(columns = [\"RowNumber\",\t\"CustomerId\", \"Surname\"] , axis = 0)"
      ],
      "metadata": {
        "id": "BdElEVIFZrK0"
      },
      "execution_count": 22,
      "outputs": []
    },
    {
      "cell_type": "code",
      "source": [
        "df = pd.get_dummies(df,columns=[\"Geography\"\t, \"Gender\"], drop_first = True)"
      ],
      "metadata": {
        "id": "4EvLiqPSbPfP"
      },
      "execution_count": 24,
      "outputs": []
    },
    {
      "cell_type": "code",
      "source": [
        "df.sample(4)"
      ],
      "metadata": {
        "colab": {
          "base_uri": "https://localhost:8080/",
          "height": 239
        },
        "id": "KmzI1Gd8b6wT",
        "outputId": "41cecd45-bd13-41e8-bc4d-1239e2e8c023"
      },
      "execution_count": 25,
      "outputs": [
        {
          "output_type": "execute_result",
          "data": {
            "text/html": [
              "\n",
              "  <div id=\"df-c35e5b4d-efd7-4446-b5c4-6740d94fac80\">\n",
              "    <div class=\"colab-df-container\">\n",
              "      <div>\n",
              "<style scoped>\n",
              "    .dataframe tbody tr th:only-of-type {\n",
              "        vertical-align: middle;\n",
              "    }\n",
              "\n",
              "    .dataframe tbody tr th {\n",
              "        vertical-align: top;\n",
              "    }\n",
              "\n",
              "    .dataframe thead th {\n",
              "        text-align: right;\n",
              "    }\n",
              "</style>\n",
              "<table border=\"1\" class=\"dataframe\">\n",
              "  <thead>\n",
              "    <tr style=\"text-align: right;\">\n",
              "      <th></th>\n",
              "      <th>CreditScore</th>\n",
              "      <th>Age</th>\n",
              "      <th>Tenure</th>\n",
              "      <th>Balance</th>\n",
              "      <th>NumOfProducts</th>\n",
              "      <th>HasCrCard</th>\n",
              "      <th>IsActiveMember</th>\n",
              "      <th>EstimatedSalary</th>\n",
              "      <th>Exited</th>\n",
              "      <th>Geography_Germany</th>\n",
              "      <th>Geography_Spain</th>\n",
              "      <th>Gender_Male</th>\n",
              "    </tr>\n",
              "  </thead>\n",
              "  <tbody>\n",
              "    <tr>\n",
              "      <th>4910</th>\n",
              "      <td>597</td>\n",
              "      <td>36</td>\n",
              "      <td>9</td>\n",
              "      <td>0.00</td>\n",
              "      <td>2</td>\n",
              "      <td>1</td>\n",
              "      <td>1</td>\n",
              "      <td>7156.09</td>\n",
              "      <td>0</td>\n",
              "      <td>0</td>\n",
              "      <td>0</td>\n",
              "      <td>0</td>\n",
              "    </tr>\n",
              "    <tr>\n",
              "      <th>6417</th>\n",
              "      <td>790</td>\n",
              "      <td>37</td>\n",
              "      <td>6</td>\n",
              "      <td>0.00</td>\n",
              "      <td>2</td>\n",
              "      <td>1</td>\n",
              "      <td>1</td>\n",
              "      <td>119484.01</td>\n",
              "      <td>0</td>\n",
              "      <td>0</td>\n",
              "      <td>1</td>\n",
              "      <td>1</td>\n",
              "    </tr>\n",
              "    <tr>\n",
              "      <th>4438</th>\n",
              "      <td>672</td>\n",
              "      <td>68</td>\n",
              "      <td>0</td>\n",
              "      <td>126061.51</td>\n",
              "      <td>2</td>\n",
              "      <td>1</td>\n",
              "      <td>1</td>\n",
              "      <td>184936.77</td>\n",
              "      <td>0</td>\n",
              "      <td>1</td>\n",
              "      <td>0</td>\n",
              "      <td>1</td>\n",
              "    </tr>\n",
              "    <tr>\n",
              "      <th>1074</th>\n",
              "      <td>535</td>\n",
              "      <td>31</td>\n",
              "      <td>7</td>\n",
              "      <td>111855.04</td>\n",
              "      <td>2</td>\n",
              "      <td>1</td>\n",
              "      <td>1</td>\n",
              "      <td>36278.89</td>\n",
              "      <td>0</td>\n",
              "      <td>0</td>\n",
              "      <td>0</td>\n",
              "      <td>0</td>\n",
              "    </tr>\n",
              "  </tbody>\n",
              "</table>\n",
              "</div>\n",
              "      <button class=\"colab-df-convert\" onclick=\"convertToInteractive('df-c35e5b4d-efd7-4446-b5c4-6740d94fac80')\"\n",
              "              title=\"Convert this dataframe to an interactive table.\"\n",
              "              style=\"display:none;\">\n",
              "        \n",
              "  <svg xmlns=\"http://www.w3.org/2000/svg\" height=\"24px\"viewBox=\"0 0 24 24\"\n",
              "       width=\"24px\">\n",
              "    <path d=\"M0 0h24v24H0V0z\" fill=\"none\"/>\n",
              "    <path d=\"M18.56 5.44l.94 2.06.94-2.06 2.06-.94-2.06-.94-.94-2.06-.94 2.06-2.06.94zm-11 1L8.5 8.5l.94-2.06 2.06-.94-2.06-.94L8.5 2.5l-.94 2.06-2.06.94zm10 10l.94 2.06.94-2.06 2.06-.94-2.06-.94-.94-2.06-.94 2.06-2.06.94z\"/><path d=\"M17.41 7.96l-1.37-1.37c-.4-.4-.92-.59-1.43-.59-.52 0-1.04.2-1.43.59L10.3 9.45l-7.72 7.72c-.78.78-.78 2.05 0 2.83L4 21.41c.39.39.9.59 1.41.59.51 0 1.02-.2 1.41-.59l7.78-7.78 2.81-2.81c.8-.78.8-2.07 0-2.86zM5.41 20L4 18.59l7.72-7.72 1.47 1.35L5.41 20z\"/>\n",
              "  </svg>\n",
              "      </button>\n",
              "      \n",
              "  <style>\n",
              "    .colab-df-container {\n",
              "      display:flex;\n",
              "      flex-wrap:wrap;\n",
              "      gap: 12px;\n",
              "    }\n",
              "\n",
              "    .colab-df-convert {\n",
              "      background-color: #E8F0FE;\n",
              "      border: none;\n",
              "      border-radius: 50%;\n",
              "      cursor: pointer;\n",
              "      display: none;\n",
              "      fill: #1967D2;\n",
              "      height: 32px;\n",
              "      padding: 0 0 0 0;\n",
              "      width: 32px;\n",
              "    }\n",
              "\n",
              "    .colab-df-convert:hover {\n",
              "      background-color: #E2EBFA;\n",
              "      box-shadow: 0px 1px 2px rgba(60, 64, 67, 0.3), 0px 1px 3px 1px rgba(60, 64, 67, 0.15);\n",
              "      fill: #174EA6;\n",
              "    }\n",
              "\n",
              "    [theme=dark] .colab-df-convert {\n",
              "      background-color: #3B4455;\n",
              "      fill: #D2E3FC;\n",
              "    }\n",
              "\n",
              "    [theme=dark] .colab-df-convert:hover {\n",
              "      background-color: #434B5C;\n",
              "      box-shadow: 0px 1px 3px 1px rgba(0, 0, 0, 0.15);\n",
              "      filter: drop-shadow(0px 1px 2px rgba(0, 0, 0, 0.3));\n",
              "      fill: #FFFFFF;\n",
              "    }\n",
              "  </style>\n",
              "\n",
              "      <script>\n",
              "        const buttonEl =\n",
              "          document.querySelector('#df-c35e5b4d-efd7-4446-b5c4-6740d94fac80 button.colab-df-convert');\n",
              "        buttonEl.style.display =\n",
              "          google.colab.kernel.accessAllowed ? 'block' : 'none';\n",
              "\n",
              "        async function convertToInteractive(key) {\n",
              "          const element = document.querySelector('#df-c35e5b4d-efd7-4446-b5c4-6740d94fac80');\n",
              "          const dataTable =\n",
              "            await google.colab.kernel.invokeFunction('convertToInteractive',\n",
              "                                                     [key], {});\n",
              "          if (!dataTable) return;\n",
              "\n",
              "          const docLinkHtml = 'Like what you see? Visit the ' +\n",
              "            '<a target=\"_blank\" href=https://colab.research.google.com/notebooks/data_table.ipynb>data table notebook</a>'\n",
              "            + ' to learn more about interactive tables.';\n",
              "          element.innerHTML = '';\n",
              "          dataTable['output_type'] = 'display_data';\n",
              "          await google.colab.output.renderOutput(dataTable, element);\n",
              "          const docLink = document.createElement('div');\n",
              "          docLink.innerHTML = docLinkHtml;\n",
              "          element.appendChild(docLink);\n",
              "        }\n",
              "      </script>\n",
              "    </div>\n",
              "  </div>\n",
              "  "
            ],
            "text/plain": [
              "      CreditScore  Age  Tenure    Balance  NumOfProducts  HasCrCard  \\\n",
              "4910          597   36       9       0.00              2          1   \n",
              "6417          790   37       6       0.00              2          1   \n",
              "4438          672   68       0  126061.51              2          1   \n",
              "1074          535   31       7  111855.04              2          1   \n",
              "\n",
              "      IsActiveMember  EstimatedSalary  Exited  Geography_Germany  \\\n",
              "4910               1          7156.09       0                  0   \n",
              "6417               1        119484.01       0                  0   \n",
              "4438               1        184936.77       0                  1   \n",
              "1074               1         36278.89       0                  0   \n",
              "\n",
              "      Geography_Spain  Gender_Male  \n",
              "4910                0            0  \n",
              "6417                1            1  \n",
              "4438                0            1  \n",
              "1074                0            0  "
            ]
          },
          "metadata": {},
          "execution_count": 25
        }
      ]
    },
    {
      "cell_type": "code",
      "source": [
        "x = df.drop(columns = [\"Exited\"])\n",
        "y = df[\"Exited\"]"
      ],
      "metadata": {
        "id": "gcTlLIO8clkt"
      },
      "execution_count": 26,
      "outputs": []
    },
    {
      "cell_type": "code",
      "source": [
        "from sklearn.model_selection import train_test_split\n",
        "x_train,x_test,y_train,y_test = train_test_split(x,y)"
      ],
      "metadata": {
        "id": "ItfQ3m1WcBG2"
      },
      "execution_count": 27,
      "outputs": []
    },
    {
      "cell_type": "code",
      "source": [
        "from sklearn.preprocessing import StandardScaler\n",
        "scalar = StandardScaler()\n",
        "\n",
        "x_train_scalar = scalar.fit_transform(x_train) \n",
        "x_test_scalar = scalar.fit_transform(x_test)"
      ],
      "metadata": {
        "id": "I6c9ncG9c57Z"
      },
      "execution_count": 30,
      "outputs": []
    },
    {
      "cell_type": "code",
      "execution_count": 31,
      "metadata": {
        "id": "XkvQV1dnUwcv"
      },
      "outputs": [],
      "source": [
        "import tensorflow\n",
        "from tensorflow import keras\n",
        "from tensorflow.keras import Sequential\n",
        "from tensorflow.keras.layers import Dense\n"
      ]
    },
    {
      "cell_type": "code",
      "source": [
        "model = Sequential()"
      ],
      "metadata": {
        "id": "ROZMFgFdXRaP"
      },
      "execution_count": 32,
      "outputs": []
    },
    {
      "cell_type": "code",
      "source": [
        "model.add(Dense(3,activation='sigmoid',input_dim=11))\n",
        "model.add(Dense(1,activation='sigmoid'))"
      ],
      "metadata": {
        "id": "RMH-cYLeX-jc"
      },
      "execution_count": 33,
      "outputs": []
    },
    {
      "cell_type": "code",
      "source": [
        "model.summary()"
      ],
      "metadata": {
        "colab": {
          "base_uri": "https://localhost:8080/"
        },
        "id": "SVmfBJ2YYWdu",
        "outputId": "dc093d30-ab22-438b-c130-67852ecda391"
      },
      "execution_count": 34,
      "outputs": [
        {
          "output_type": "stream",
          "name": "stdout",
          "text": [
            "Model: \"sequential_1\"\n",
            "_________________________________________________________________\n",
            " Layer (type)                Output Shape              Param #   \n",
            "=================================================================\n",
            " dense_1 (Dense)             (None, 3)                 36        \n",
            "                                                                 \n",
            " dense_2 (Dense)             (None, 1)                 4         \n",
            "                                                                 \n",
            "=================================================================\n",
            "Total params: 40\n",
            "Trainable params: 40\n",
            "Non-trainable params: 0\n",
            "_________________________________________________________________\n"
          ]
        }
      ]
    },
    {
      "cell_type": "code",
      "source": [
        "model.compile(loss=\"binary_crossentropy\" , optimizer = \"Adam\")"
      ],
      "metadata": {
        "id": "LwQPhWT2d5VR"
      },
      "execution_count": 35,
      "outputs": []
    },
    {
      "cell_type": "code",
      "source": [
        "model.fit(x_train_scalar,y_train,epochs = 100)"
      ],
      "metadata": {
        "colab": {
          "base_uri": "https://localhost:8080/"
        },
        "id": "hy1heeH9enUT",
        "outputId": "9094779a-a079-42a7-dbf8-961942c8aa43"
      },
      "execution_count": 37,
      "outputs": [
        {
          "output_type": "stream",
          "name": "stdout",
          "text": [
            "Epoch 1/100\n",
            "235/235 [==============================] - 2s 4ms/step - loss: 0.7824\n",
            "Epoch 2/100\n",
            "235/235 [==============================] - 0s 2ms/step - loss: 0.6291\n",
            "Epoch 3/100\n",
            "235/235 [==============================] - 0s 1ms/step - loss: 0.5498\n",
            "Epoch 4/100\n",
            "235/235 [==============================] - 0s 1ms/step - loss: 0.5104\n",
            "Epoch 5/100\n",
            "235/235 [==============================] - 0s 1ms/step - loss: 0.4890\n",
            "Epoch 6/100\n",
            "235/235 [==============================] - 0s 1ms/step - loss: 0.4754\n",
            "Epoch 7/100\n",
            "235/235 [==============================] - 0s 2ms/step - loss: 0.4653\n",
            "Epoch 8/100\n",
            "235/235 [==============================] - 0s 2ms/step - loss: 0.4571\n",
            "Epoch 9/100\n",
            "235/235 [==============================] - 0s 2ms/step - loss: 0.4501\n",
            "Epoch 10/100\n",
            "235/235 [==============================] - 0s 2ms/step - loss: 0.4444\n",
            "Epoch 11/100\n",
            "235/235 [==============================] - 0s 1ms/step - loss: 0.4397\n",
            "Epoch 12/100\n",
            "235/235 [==============================] - 0s 2ms/step - loss: 0.4360\n",
            "Epoch 13/100\n",
            "235/235 [==============================] - 0s 2ms/step - loss: 0.4331\n",
            "Epoch 14/100\n",
            "235/235 [==============================] - 0s 2ms/step - loss: 0.4307\n",
            "Epoch 15/100\n",
            "235/235 [==============================] - 0s 2ms/step - loss: 0.4289\n",
            "Epoch 16/100\n",
            "235/235 [==============================] - 0s 2ms/step - loss: 0.4273\n",
            "Epoch 17/100\n",
            "235/235 [==============================] - 0s 2ms/step - loss: 0.4260\n",
            "Epoch 18/100\n",
            "235/235 [==============================] - 0s 1ms/step - loss: 0.4248\n",
            "Epoch 19/100\n",
            "235/235 [==============================] - 0s 1ms/step - loss: 0.4236\n",
            "Epoch 20/100\n",
            "235/235 [==============================] - 0s 1ms/step - loss: 0.4227\n",
            "Epoch 21/100\n",
            "235/235 [==============================] - 0s 1ms/step - loss: 0.4218\n",
            "Epoch 22/100\n",
            "235/235 [==============================] - 0s 2ms/step - loss: 0.4209\n",
            "Epoch 23/100\n",
            "235/235 [==============================] - 0s 2ms/step - loss: 0.4202\n",
            "Epoch 24/100\n",
            "235/235 [==============================] - 0s 2ms/step - loss: 0.4195\n",
            "Epoch 25/100\n",
            "235/235 [==============================] - 0s 1ms/step - loss: 0.4189\n",
            "Epoch 26/100\n",
            "235/235 [==============================] - 0s 2ms/step - loss: 0.4182\n",
            "Epoch 27/100\n",
            "235/235 [==============================] - 0s 2ms/step - loss: 0.4177\n",
            "Epoch 28/100\n",
            "235/235 [==============================] - 0s 1ms/step - loss: 0.4171\n",
            "Epoch 29/100\n",
            "235/235 [==============================] - 0s 1ms/step - loss: 0.4166\n",
            "Epoch 30/100\n",
            "235/235 [==============================] - 0s 1ms/step - loss: 0.4162\n",
            "Epoch 31/100\n",
            "235/235 [==============================] - 0s 1ms/step - loss: 0.4157\n",
            "Epoch 32/100\n",
            "235/235 [==============================] - 0s 2ms/step - loss: 0.4154\n",
            "Epoch 33/100\n",
            "235/235 [==============================] - 0s 2ms/step - loss: 0.4150\n",
            "Epoch 34/100\n",
            "235/235 [==============================] - 0s 2ms/step - loss: 0.4146\n",
            "Epoch 35/100\n",
            "235/235 [==============================] - 0s 2ms/step - loss: 0.4143\n",
            "Epoch 36/100\n",
            "235/235 [==============================] - 0s 1ms/step - loss: 0.4140\n",
            "Epoch 37/100\n",
            "235/235 [==============================] - 0s 1ms/step - loss: 0.4137\n",
            "Epoch 38/100\n",
            "235/235 [==============================] - 0s 2ms/step - loss: 0.4134\n",
            "Epoch 39/100\n",
            "235/235 [==============================] - 0s 1ms/step - loss: 0.4131\n",
            "Epoch 40/100\n",
            "235/235 [==============================] - 0s 1ms/step - loss: 0.4129\n",
            "Epoch 41/100\n",
            "235/235 [==============================] - 0s 2ms/step - loss: 0.4126\n",
            "Epoch 42/100\n",
            "235/235 [==============================] - 0s 1ms/step - loss: 0.4123\n",
            "Epoch 43/100\n",
            "235/235 [==============================] - 0s 1ms/step - loss: 0.4121\n",
            "Epoch 44/100\n",
            "235/235 [==============================] - 0s 2ms/step - loss: 0.4119\n",
            "Epoch 45/100\n",
            "235/235 [==============================] - 0s 1ms/step - loss: 0.4117\n",
            "Epoch 46/100\n",
            "235/235 [==============================] - 0s 2ms/step - loss: 0.4115\n",
            "Epoch 47/100\n",
            "235/235 [==============================] - 0s 2ms/step - loss: 0.4114\n",
            "Epoch 48/100\n",
            "235/235 [==============================] - 0s 1ms/step - loss: 0.4112\n",
            "Epoch 49/100\n",
            "235/235 [==============================] - 0s 1ms/step - loss: 0.4110\n",
            "Epoch 50/100\n",
            "235/235 [==============================] - 0s 1ms/step - loss: 0.4108\n",
            "Epoch 51/100\n",
            "235/235 [==============================] - 0s 1ms/step - loss: 0.4107\n",
            "Epoch 52/100\n",
            "235/235 [==============================] - 0s 1ms/step - loss: 0.4105\n",
            "Epoch 53/100\n",
            "235/235 [==============================] - 0s 1ms/step - loss: 0.4104\n",
            "Epoch 54/100\n",
            "235/235 [==============================] - 0s 1ms/step - loss: 0.4103\n",
            "Epoch 55/100\n",
            "235/235 [==============================] - 0s 2ms/step - loss: 0.4101\n",
            "Epoch 56/100\n",
            "235/235 [==============================] - 0s 2ms/step - loss: 0.4100\n",
            "Epoch 57/100\n",
            "235/235 [==============================] - 0s 1ms/step - loss: 0.4098\n",
            "Epoch 58/100\n",
            "235/235 [==============================] - 0s 2ms/step - loss: 0.4097\n",
            "Epoch 59/100\n",
            "235/235 [==============================] - 0s 2ms/step - loss: 0.4096\n",
            "Epoch 60/100\n",
            "235/235 [==============================] - 0s 1ms/step - loss: 0.4095\n",
            "Epoch 61/100\n",
            "235/235 [==============================] - 0s 2ms/step - loss: 0.4094\n",
            "Epoch 62/100\n",
            "235/235 [==============================] - 0s 1ms/step - loss: 0.4093\n",
            "Epoch 63/100\n",
            "235/235 [==============================] - 0s 2ms/step - loss: 0.4092\n",
            "Epoch 64/100\n",
            "235/235 [==============================] - 0s 2ms/step - loss: 0.4091\n",
            "Epoch 65/100\n",
            "235/235 [==============================] - 0s 2ms/step - loss: 0.4090\n",
            "Epoch 66/100\n",
            "235/235 [==============================] - 0s 2ms/step - loss: 0.4089\n",
            "Epoch 67/100\n",
            "235/235 [==============================] - 0s 2ms/step - loss: 0.4088\n",
            "Epoch 68/100\n",
            "235/235 [==============================] - 0s 2ms/step - loss: 0.4088\n",
            "Epoch 69/100\n",
            "235/235 [==============================] - 0s 1ms/step - loss: 0.4086\n",
            "Epoch 70/100\n",
            "235/235 [==============================] - 0s 1ms/step - loss: 0.4086\n",
            "Epoch 71/100\n",
            "235/235 [==============================] - 0s 1ms/step - loss: 0.4085\n",
            "Epoch 72/100\n",
            "235/235 [==============================] - 0s 2ms/step - loss: 0.4084\n",
            "Epoch 73/100\n",
            "235/235 [==============================] - 0s 2ms/step - loss: 0.4084\n",
            "Epoch 74/100\n",
            "235/235 [==============================] - 0s 2ms/step - loss: 0.4082\n",
            "Epoch 75/100\n",
            "235/235 [==============================] - 0s 2ms/step - loss: 0.4082\n",
            "Epoch 76/100\n",
            "235/235 [==============================] - 0s 2ms/step - loss: 0.4081\n",
            "Epoch 77/100\n",
            "235/235 [==============================] - 0s 1ms/step - loss: 0.4081\n",
            "Epoch 78/100\n",
            "235/235 [==============================] - 0s 1ms/step - loss: 0.4079\n",
            "Epoch 79/100\n",
            "235/235 [==============================] - 0s 1ms/step - loss: 0.4079\n",
            "Epoch 80/100\n",
            "235/235 [==============================] - 0s 2ms/step - loss: 0.4078\n",
            "Epoch 81/100\n",
            "235/235 [==============================] - 0s 2ms/step - loss: 0.4078\n",
            "Epoch 82/100\n",
            "235/235 [==============================] - 0s 2ms/step - loss: 0.4077\n",
            "Epoch 83/100\n",
            "235/235 [==============================] - 0s 2ms/step - loss: 0.4076\n",
            "Epoch 84/100\n",
            "235/235 [==============================] - 0s 2ms/step - loss: 0.4076\n",
            "Epoch 85/100\n",
            "235/235 [==============================] - 0s 2ms/step - loss: 0.4075\n",
            "Epoch 86/100\n",
            "235/235 [==============================] - 0s 2ms/step - loss: 0.4075\n",
            "Epoch 87/100\n",
            "235/235 [==============================] - 0s 2ms/step - loss: 0.4074\n",
            "Epoch 88/100\n",
            "235/235 [==============================] - 0s 2ms/step - loss: 0.4073\n",
            "Epoch 89/100\n",
            "235/235 [==============================] - 0s 1ms/step - loss: 0.4073\n",
            "Epoch 90/100\n",
            "235/235 [==============================] - 0s 1ms/step - loss: 0.4072\n",
            "Epoch 91/100\n",
            "235/235 [==============================] - 0s 1ms/step - loss: 0.4072\n",
            "Epoch 92/100\n",
            "235/235 [==============================] - 0s 1ms/step - loss: 0.4072\n",
            "Epoch 93/100\n",
            "235/235 [==============================] - 0s 1ms/step - loss: 0.4071\n",
            "Epoch 94/100\n",
            "235/235 [==============================] - 0s 2ms/step - loss: 0.4070\n",
            "Epoch 95/100\n",
            "235/235 [==============================] - 0s 1ms/step - loss: 0.4070\n",
            "Epoch 96/100\n",
            "235/235 [==============================] - 0s 2ms/step - loss: 0.4070\n",
            "Epoch 97/100\n",
            "235/235 [==============================] - 0s 2ms/step - loss: 0.4069\n",
            "Epoch 98/100\n",
            "235/235 [==============================] - 0s 2ms/step - loss: 0.4069\n",
            "Epoch 99/100\n",
            "235/235 [==============================] - 0s 2ms/step - loss: 0.4069\n",
            "Epoch 100/100\n",
            "235/235 [==============================] - 0s 2ms/step - loss: 0.4068\n"
          ]
        },
        {
          "output_type": "execute_result",
          "data": {
            "text/plain": [
              "<keras.callbacks.History at 0x7f9e562e4d10>"
            ]
          },
          "metadata": {},
          "execution_count": 37
        }
      ]
    },
    {
      "cell_type": "code",
      "source": [
        "model.layers[0].get_weights()"
      ],
      "metadata": {
        "colab": {
          "base_uri": "https://localhost:8080/"
        },
        "id": "fkYtbILqe4Xm",
        "outputId": "286f1d41-1e98-41cf-ac14-17d6554cfea3"
      },
      "execution_count": 40,
      "outputs": [
        {
          "output_type": "execute_result",
          "data": {
            "text/plain": [
              "[array([[ 3.73857915e-02,  3.32640231e-01,  2.38928553e-02],\n",
              "        [-2.76795149e+00, -3.74670029e+00, -2.72696644e-01],\n",
              "        [ 1.19808532e-01,  7.00517185e-03, -2.09495472e-03],\n",
              "        [-1.91241607e-01,  2.18526468e-01,  7.62643158e-01],\n",
              "        [-8.04142207e-02,  7.45282397e-02, -1.72785167e-02],\n",
              "        [ 2.99390167e-01, -3.98788393e-01, -6.02765530e-02],\n",
              "        [-1.64075777e-01, -1.57225728e+00, -2.31898046e+00],\n",
              "        [ 6.89110011e-02,  3.15120459e-01,  3.71583939e-01],\n",
              "        [-7.84670353e-01, -1.00250244e-01,  3.70569855e-01],\n",
              "        [ 5.64405978e-01, -5.20256579e-01,  7.96584412e-02],\n",
              "        [ 3.75195414e-01, -3.81945036e-02, -9.59896266e-01]], dtype=float32),\n",
              " array([0.6639106 , 0.21011907, 0.08209047], dtype=float32)]"
            ]
          },
          "metadata": {},
          "execution_count": 40
        }
      ]
    },
    {
      "cell_type": "code",
      "source": [
        "a = model.predict(x_test_scalar)"
      ],
      "metadata": {
        "id": "mPQ5JdQmfOwr"
      },
      "execution_count": 46,
      "outputs": []
    },
    {
      "cell_type": "code",
      "source": [
        "import numpy as np\n",
        "y_pred = np.where(a>0.5,1,0)"
      ],
      "metadata": {
        "id": "ddM0Cnglfeny"
      },
      "execution_count": 49,
      "outputs": []
    },
    {
      "cell_type": "code",
      "source": [
        "from sklearn.metrics import accuracy_score\n",
        "accuracy_score(y_test,y_pred)"
      ],
      "metadata": {
        "colab": {
          "base_uri": "https://localhost:8080/"
        },
        "id": "1SipiYBdgS1h",
        "outputId": "49c22854-9e75-48b0-8c36-8a8e4b2ff561"
      },
      "execution_count": 50,
      "outputs": [
        {
          "output_type": "execute_result",
          "data": {
            "text/plain": [
              "0.846"
            ]
          },
          "metadata": {},
          "execution_count": 50
        }
      ]
    },
    {
      "cell_type": "code",
      "source": [
        "#further we can do hyperparameter tunning"
      ],
      "metadata": {
        "id": "l7LbgKBjgrW_"
      },
      "execution_count": null,
      "outputs": []
    }
  ]
}