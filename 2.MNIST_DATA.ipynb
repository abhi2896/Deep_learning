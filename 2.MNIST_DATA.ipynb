{
  "nbformat": 4,
  "nbformat_minor": 0,
  "metadata": {
    "colab": {
      "name": "MNIST_DATA.ipynb",
      "provenance": [],
      "collapsed_sections": []
    },
    "kernelspec": {
      "name": "python3",
      "display_name": "Python 3"
    },
    "language_info": {
      "name": "python"
    }
  },
  "cells": [
    {
      "cell_type": "code",
      "execution_count": 2,
      "metadata": {
        "id": "GhI4LVbmb9tP"
      },
      "outputs": [],
      "source": [
        "import tensorflow\n",
        "from tensorflow import keras\n",
        "from tensorflow.keras import Sequential\n",
        "from tensorflow.keras.layers import Dense,Flatten"
      ]
    },
    {
      "cell_type": "code",
      "source": [
        "#Dataset is already avilable\n",
        "(X_train,y_train),(X_test,y_test) = keras.datasets.mnist.load_data()"
      ],
      "metadata": {
        "colab": {
          "base_uri": "https://localhost:8080/"
        },
        "id": "oFWaaUgadZ6V",
        "outputId": "d1bb11a6-3ce4-4b14-975f-57d7c3d0629a"
      },
      "execution_count": 3,
      "outputs": [
        {
          "output_type": "stream",
          "name": "stdout",
          "text": [
            "Downloading data from https://storage.googleapis.com/tensorflow/tf-keras-datasets/mnist.npz\n",
            "11493376/11490434 [==============================] - 0s 0us/step\n",
            "11501568/11490434 [==============================] - 0s 0us/step\n"
          ]
        }
      ]
    },
    {
      "cell_type": "code",
      "source": [
        "X_test.shape # total 10000 matrix and each matrix is of 28*28"
      ],
      "metadata": {
        "colab": {
          "base_uri": "https://localhost:8080/"
        },
        "id": "fIrt2s2keQZo",
        "outputId": "3bd2b899-2c6b-4598-d0a8-865a0562b2a8"
      },
      "execution_count": 6,
      "outputs": [
        {
          "output_type": "execute_result",
          "data": {
            "text/plain": [
              "(10000, 28, 28)"
            ]
          },
          "metadata": {},
          "execution_count": 6
        }
      ]
    },
    {
      "cell_type": "code",
      "source": [
        "import matplotlib.pyplot as plt\n",
        "plt.imshow(X_train[2])"
      ],
      "metadata": {
        "colab": {
          "base_uri": "https://localhost:8080/",
          "height": 282
        },
        "id": "SfpFDCjLewkv",
        "outputId": "165a9d34-a2f5-49d2-ef7e-a104e41672a4"
      },
      "execution_count": 7,
      "outputs": [
        {
          "output_type": "execute_result",
          "data": {
            "text/plain": [
              "<matplotlib.image.AxesImage at 0x7f0d80c8ab50>"
            ]
          },
          "metadata": {},
          "execution_count": 7
        },
        {
          "output_type": "display_data",
          "data": {
            "image/png": "[encoded data removed]",
            "text/plain": [
              "<Figure size 432x288 with 1 Axes>"
            ]
          },
          "metadata": {
            "needs_background": "light"
          }
        }
      ]
    },
    {
      "cell_type": "code",
      "source": [
        "#kind of standadization for easy conversion\n",
        "X_train = X_train/255\n",
        "X_test = X_test/255"
      ],
      "metadata": {
        "id": "FeOx1ZI5e3DH"
      },
      "execution_count": 8,
      "outputs": []
    },
    {
      "cell_type": "code",
      "source": [
        "model = Sequential()\n",
        "\n",
        "model.add(Flatten(input_shape=(28,28)))\n",
        "model.add(Dense(128,activation='relu'))\n",
        "model.add(Dense(32,activation='relu'))\n",
        "model.add(Dense(10,activation='softmax'))"
      ],
      "metadata": {
        "id": "Wlo-oU-nfVBi"
      },
      "execution_count": 9,
      "outputs": []
    },
    {
      "cell_type": "code",
      "source": [
        "model.summary()"
      ],
      "metadata": {
        "colab": {
          "base_uri": "https://localhost:8080/"
        },
        "id": "df-weBNKfb8i",
        "outputId": "b75feacd-82d5-4dc3-d686-aaca3e50d71c"
      },
      "execution_count": 10,
      "outputs": [
        {
          "output_type": "stream",
          "name": "stdout",
          "text": [
            "Model: \"sequential\"\n",
            "_________________________________________________________________\n",
            " Layer (type)                Output Shape              Param #   \n",
            "=================================================================\n",
            " flatten (Flatten)           (None, 784)               0         \n",
            "                                                                 \n",
            " dense (Dense)               (None, 128)               100480    \n",
            "                                                                 \n",
            " dense_1 (Dense)             (None, 32)                4128      \n",
            "                                                                 \n",
            " dense_2 (Dense)             (None, 10)                330       \n",
            "                                                                 \n",
            "=================================================================\n",
            "Total params: 104,938\n",
            "Trainable params: 104,938\n",
            "Non-trainable params: 0\n",
            "_________________________________________________________________\n"
          ]
        }
      ]
    },
    {
      "cell_type": "code",
      "source": [
        "model.compile(loss='sparse_categorical_crossentropy',optimizer='Adam',metrics=['accuracy'])"
      ],
      "metadata": {
        "id": "q8b3Na5gfeh2"
      },
      "execution_count": 11,
      "outputs": []
    },
    {
      "cell_type": "code",
      "source": [
        "model.fit(X_train,y_train,epochs=25,validation_split=0.2)"
      ],
      "metadata": {
        "colab": {
          "base_uri": "https://localhost:8080/"
        },
        "id": "eUIJbzXzflYl",
        "outputId": "08400ee7-6e81-41a2-e71d-1b2be04f6f29"
      },
      "execution_count": 12,
      "outputs": [
        {
          "output_type": "stream",
          "name": "stdout",
          "text": [
            "Epoch 1/25\n",
            "1500/1500 [==============================] - 4s 2ms/step - loss: 0.2861 - accuracy: 0.9170 - val_loss: 0.1480 - val_accuracy: 0.9555\n",
            "Epoch 2/25\n",
            "1500/1500 [==============================] - 3s 2ms/step - loss: 0.1194 - accuracy: 0.9644 - val_loss: 0.1109 - val_accuracy: 0.9662\n",
            "Epoch 3/25\n",
            "1500/1500 [==============================] - 3s 2ms/step - loss: 0.0821 - accuracy: 0.9749 - val_loss: 0.0982 - val_accuracy: 0.9696\n",
            "Epoch 4/25\n",
            "1500/1500 [==============================] - 4s 2ms/step - loss: 0.0622 - accuracy: 0.9805 - val_loss: 0.0903 - val_accuracy: 0.9738\n",
            "Epoch 5/25\n",
            "1500/1500 [==============================] - 3s 2ms/step - loss: 0.0457 - accuracy: 0.9858 - val_loss: 0.0954 - val_accuracy: 0.9741\n",
            "Epoch 6/25\n",
            "1500/1500 [==============================] - 3s 2ms/step - loss: 0.0373 - accuracy: 0.9876 - val_loss: 0.0976 - val_accuracy: 0.9722\n",
            "Epoch 7/25\n",
            "1500/1500 [==============================] - 3s 2ms/step - loss: 0.0312 - accuracy: 0.9894 - val_loss: 0.1004 - val_accuracy: 0.9750\n",
            "Epoch 8/25\n",
            "1500/1500 [==============================] - 4s 2ms/step - loss: 0.0267 - accuracy: 0.9910 - val_loss: 0.1070 - val_accuracy: 0.9726\n",
            "Epoch 9/25\n",
            "1500/1500 [==============================] - 4s 2ms/step - loss: 0.0228 - accuracy: 0.9924 - val_loss: 0.1082 - val_accuracy: 0.9734\n",
            "Epoch 10/25\n",
            "1500/1500 [==============================] - 4s 2ms/step - loss: 0.0198 - accuracy: 0.9934 - val_loss: 0.1262 - val_accuracy: 0.9717\n",
            "Epoch 11/25\n",
            "1500/1500 [==============================] - 4s 2ms/step - loss: 0.0166 - accuracy: 0.9945 - val_loss: 0.1288 - val_accuracy: 0.9731\n",
            "Epoch 12/25\n",
            "1500/1500 [==============================] - 3s 2ms/step - loss: 0.0139 - accuracy: 0.9948 - val_loss: 0.1174 - val_accuracy: 0.9732\n",
            "Epoch 13/25\n",
            "1500/1500 [==============================] - 3s 2ms/step - loss: 0.0126 - accuracy: 0.9954 - val_loss: 0.1224 - val_accuracy: 0.9724\n",
            "Epoch 14/25\n",
            "1500/1500 [==============================] - 4s 2ms/step - loss: 0.0134 - accuracy: 0.9955 - val_loss: 0.1306 - val_accuracy: 0.9774\n",
            "Epoch 15/25\n",
            "1500/1500 [==============================] - 3s 2ms/step - loss: 0.0127 - accuracy: 0.9959 - val_loss: 0.1340 - val_accuracy: 0.9767\n",
            "Epoch 16/25\n",
            "1500/1500 [==============================] - 3s 2ms/step - loss: 0.0121 - accuracy: 0.9960 - val_loss: 0.1403 - val_accuracy: 0.9742\n",
            "Epoch 17/25\n",
            "1500/1500 [==============================] - 3s 2ms/step - loss: 0.0116 - accuracy: 0.9962 - val_loss: 0.1348 - val_accuracy: 0.9764\n",
            "Epoch 18/25\n",
            "1500/1500 [==============================] - 3s 2ms/step - loss: 0.0101 - accuracy: 0.9970 - val_loss: 0.1572 - val_accuracy: 0.9720\n",
            "Epoch 19/25\n",
            "1500/1500 [==============================] - 4s 2ms/step - loss: 0.0101 - accuracy: 0.9965 - val_loss: 0.1527 - val_accuracy: 0.9739\n",
            "Epoch 20/25\n",
            "1500/1500 [==============================] - 3s 2ms/step - loss: 0.0077 - accuracy: 0.9975 - val_loss: 0.1375 - val_accuracy: 0.9760\n",
            "Epoch 21/25\n",
            "1500/1500 [==============================] - 3s 2ms/step - loss: 0.0105 - accuracy: 0.9966 - val_loss: 0.1745 - val_accuracy: 0.9696\n",
            "Epoch 22/25\n",
            "1500/1500 [==============================] - 3s 2ms/step - loss: 0.0089 - accuracy: 0.9970 - val_loss: 0.1718 - val_accuracy: 0.9729\n",
            "Epoch 23/25\n",
            "1500/1500 [==============================] - 3s 2ms/step - loss: 0.0071 - accuracy: 0.9978 - val_loss: 0.1530 - val_accuracy: 0.9770\n",
            "Epoch 24/25\n",
            "1500/1500 [==============================] - 3s 2ms/step - loss: 0.0088 - accuracy: 0.9971 - val_loss: 0.1536 - val_accuracy: 0.9749\n",
            "Epoch 25/25\n",
            "1500/1500 [==============================] - 3s 2ms/step - loss: 0.0065 - accuracy: 0.9979 - val_loss: 0.1543 - val_accuracy: 0.9757\n"
          ]
        },
        {
          "output_type": "execute_result",
          "data": {
            "text/plain": [
              "<keras.callbacks.History at 0x7f0d7c5e1d50>"
            ]
          },
          "metadata": {},
          "execution_count": 12
        }
      ]
    },
    {
      "cell_type": "code",
      "source": [
        "y_prob = model.predict(X_test)"
      ],
      "metadata": {
        "id": "cgIhnJHIfpkL"
      },
      "execution_count": 13,
      "outputs": []
    },
    {
      "cell_type": "code",
      "source": [
        "y_pred = y_prob.argmax(axis=1)"
      ],
      "metadata": {
        "id": "Nboh4E-hgB9s"
      },
      "execution_count": 14,
      "outputs": []
    },
    {
      "cell_type": "code",
      "source": [
        ""
      ],
      "metadata": {
        "id": "5AXVOsHOgFpf"
      },
      "execution_count": null,
      "outputs": []
    },
    {
      "cell_type": "code",
      "source": [
        "from sklearn.metrics import accuracy_score\n",
        "accuracy_score(y_test,y_pred)"
      ],
      "metadata": {
        "colab": {
          "base_uri": "https://localhost:8080/"
        },
        "id": "jcyA9XVHXY6o",
        "outputId": "035f58a9-f6d1-4284-d8c6-c9a7eab08383"
      },
      "execution_count": 15,
      "outputs": [
        {
          "output_type": "execute_result",
          "data": {
            "text/plain": [
              "0.979"
            ]
          },
          "metadata": {},
          "execution_count": 15
        }
      ]
    },
    {
      "cell_type": "code",
      "source": [
        "plt.imshow(X_test[1])"
      ],
      "metadata": {
        "colab": {
          "base_uri": "https://localhost:8080/",
          "height": 282
        },
        "id": "ySdgZXyvgIjH",
        "outputId": "20733bbc-6f0b-4f9b-b584-7a3455d4c477"
      },
      "execution_count": 16,
      "outputs": [
        {
          "output_type": "execute_result",
          "data": {
            "text/plain": [
              "<matplotlib.image.AxesImage at 0x7f0d77d9e510>"
            ]
          },
          "metadata": {},
          "execution_count": 16
        },
        {
          "output_type": "display_data",
          "data": {
            "image/png": "[encoded data removed]",
            "text/plain": [
              "<Figure size 432x288 with 1 Axes>"
            ]
          },
          "metadata": {
            "needs_background": "light"
          }
        }
      ]
    },
    {
      "cell_type": "code",
      "source": [
        "model.predict(X_test[1].reshape(1,28,28)).argmax(axis=1)"
      ],
      "metadata": {
        "colab": {
          "base_uri": "https://localhost:8080/"
        },
        "id": "hZZN-kQ2gRDO",
        "outputId": "402122c7-fd3c-4905-f195-a033032abfe9"
      },
      "execution_count": 17,
      "outputs": [
        {
          "output_type": "execute_result",
          "data": {
            "text/plain": [
              "array([2])"
            ]
          },
          "metadata": {},
          "execution_count": 17
        }
      ]
    },
    {
      "cell_type": "code",
      "source": [
        ""
      ],
      "metadata": {
        "id": "TDZSKy5IgRe1"
      },
      "execution_count": null,
      "outputs": []
    }
  ]
}